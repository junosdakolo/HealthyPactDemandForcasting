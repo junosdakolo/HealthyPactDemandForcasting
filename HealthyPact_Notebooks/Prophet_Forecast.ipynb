{
 "cells": [
  {
   "cell_type": "markdown",
   "metadata": {},
   "source": [
    "## Import needed Python Libraries"
   ]
  },
  {
   "cell_type": "code",
   "execution_count": 1,
   "metadata": {},
   "outputs": [
    {
     "name": "stdout",
     "output_type": "stream",
     "text": [
      "C:\\Users\\junos\\OneDrive\\Documents\\Nexford\\BusinessModel\n"
     ]
    }
   ],
   "source": [
    "import os\n",
    "import pandas as pd \n",
    "import numpy as np \n",
    "import matplotlib.pylab as plt \n",
    "import seaborn as sns \n",
    "from prophet import Prophet\n",
    "from prophet.plot import plot_plotly\n",
    "from prophet.diagnostics import cross_validation, performance_metrics\n",
    "from xgboost import XGBRegressor\n",
    "from sklearn.metrics import mean_absolute_error, mean_squared_error\n",
    "from sklearn.model_selection import train_test_split\n",
    "\n",
    "os.chdir (\"C:\\\\Users\\\\junos\\\\OneDrive\\\\Documents\\\\Nexford\\\\BusinessModel\")\n",
    "\n",
    "print(os.getcwd())\n",
    "plt.show()\n",
    "\n",
    "#sns.set(style=\"whitegrid\")\n",
    "import warnings\n",
    "warnings.filterwarnings(\"ignore\")"
   ]
  },
  {
   "cell_type": "code",
   "execution_count": 2,
   "metadata": {},
   "outputs": [],
   "source": [
    "#import the csv file into python\n",
    "df = pd.read_csv(\"JayFitnessStore.csv\")"
   ]
  },
  {
   "cell_type": "code",
   "execution_count": 3,
   "metadata": {},
   "outputs": [
    {
     "data": {
      "text/html": [
       "<div>\n",
       "<style scoped>\n",
       "    .dataframe tbody tr th:only-of-type {\n",
       "        vertical-align: middle;\n",
       "    }\n",
       "\n",
       "    .dataframe tbody tr th {\n",
       "        vertical-align: top;\n",
       "    }\n",
       "\n",
       "    .dataframe thead th {\n",
       "        text-align: right;\n",
       "    }\n",
       "</style>\n",
       "<table border=\"1\" class=\"dataframe\">\n",
       "  <thead>\n",
       "    <tr style=\"text-align: right;\">\n",
       "      <th></th>\n",
       "      <th>Date</th>\n",
       "      <th>Store</th>\n",
       "      <th>Product_Category</th>\n",
       "      <th>Units_Sold</th>\n",
       "      <th>Price</th>\n",
       "      <th>Competitor_Price</th>\n",
       "      <th>Holiday_Flag</th>\n",
       "      <th>CPI</th>\n",
       "      <th>Campaign_Flag</th>\n",
       "      <th>Year</th>\n",
       "      <th>Month</th>\n",
       "      <th>Week</th>\n",
       "      <th>DayOfWeek</th>\n",
       "      <th>IsWeekend</th>\n",
       "      <th>Price_Diff</th>\n",
       "      <th>Discount_Flag</th>\n",
       "    </tr>\n",
       "  </thead>\n",
       "  <tbody>\n",
       "    <tr>\n",
       "      <th>0</th>\n",
       "      <td>1/3/2023</td>\n",
       "      <td>Abuja</td>\n",
       "      <td>Fitness Gear</td>\n",
       "      <td>12</td>\n",
       "      <td>102522</td>\n",
       "      <td>97314</td>\n",
       "      <td>0</td>\n",
       "      <td>101.93</td>\n",
       "      <td>0</td>\n",
       "      <td>2024</td>\n",
       "      <td>3</td>\n",
       "      <td>13</td>\n",
       "      <td>6</td>\n",
       "      <td>1</td>\n",
       "      <td>5208</td>\n",
       "      <td>0</td>\n",
       "    </tr>\n",
       "    <tr>\n",
       "      <th>1</th>\n",
       "      <td>1/4/2023</td>\n",
       "      <td>Lagos</td>\n",
       "      <td>Supplements</td>\n",
       "      <td>6</td>\n",
       "      <td>122262</td>\n",
       "      <td>122262</td>\n",
       "      <td>0</td>\n",
       "      <td>100.85</td>\n",
       "      <td>0</td>\n",
       "      <td>2024</td>\n",
       "      <td>1</td>\n",
       "      <td>3</td>\n",
       "      <td>6</td>\n",
       "      <td>1</td>\n",
       "      <td>0</td>\n",
       "      <td>0</td>\n",
       "    </tr>\n",
       "    <tr>\n",
       "      <th>2</th>\n",
       "      <td>1/5/2023</td>\n",
       "      <td>Port Harcourt</td>\n",
       "      <td>Wellness Drinks</td>\n",
       "      <td>39</td>\n",
       "      <td>60858</td>\n",
       "      <td>66262</td>\n",
       "      <td>0</td>\n",
       "      <td>100.07</td>\n",
       "      <td>0</td>\n",
       "      <td>2023</td>\n",
       "      <td>2</td>\n",
       "      <td>7</td>\n",
       "      <td>6</td>\n",
       "      <td>1</td>\n",
       "      <td>-5404</td>\n",
       "      <td>1</td>\n",
       "    </tr>\n",
       "  </tbody>\n",
       "</table>\n",
       "</div>"
      ],
      "text/plain": [
       "       Date          Store Product_Category  Units_Sold   Price  \\\n",
       "0  1/3/2023          Abuja     Fitness Gear          12  102522   \n",
       "1  1/4/2023          Lagos      Supplements           6  122262   \n",
       "2  1/5/2023  Port Harcourt  Wellness Drinks          39   60858   \n",
       "\n",
       "   Competitor_Price  Holiday_Flag     CPI  Campaign_Flag  Year  Month  Week  \\\n",
       "0             97314             0  101.93              0  2024      3    13   \n",
       "1            122262             0  100.85              0  2024      1     3   \n",
       "2             66262             0  100.07              0  2023      2     7   \n",
       "\n",
       "   DayOfWeek  IsWeekend  Price_Diff  Discount_Flag  \n",
       "0          6          1        5208              0  \n",
       "1          6          1           0              0  \n",
       "2          6          1       -5404              1  "
      ]
     },
     "execution_count": 3,
     "metadata": {},
     "output_type": "execute_result"
    }
   ],
   "source": [
    "df.head(3)"
   ]
  },
  {
   "cell_type": "code",
   "execution_count": 4,
   "metadata": {},
   "outputs": [
    {
     "data": {
      "text/html": [
       "<div>\n",
       "<style scoped>\n",
       "    .dataframe tbody tr th:only-of-type {\n",
       "        vertical-align: middle;\n",
       "    }\n",
       "\n",
       "    .dataframe tbody tr th {\n",
       "        vertical-align: top;\n",
       "    }\n",
       "\n",
       "    .dataframe thead th {\n",
       "        text-align: right;\n",
       "    }\n",
       "</style>\n",
       "<table border=\"1\" class=\"dataframe\">\n",
       "  <thead>\n",
       "    <tr style=\"text-align: right;\">\n",
       "      <th></th>\n",
       "      <th>Date</th>\n",
       "      <th>Store</th>\n",
       "      <th>Product_Category</th>\n",
       "      <th>Units_Sold</th>\n",
       "      <th>Price</th>\n",
       "      <th>Competitor_Price</th>\n",
       "      <th>Holiday_Flag</th>\n",
       "      <th>CPI</th>\n",
       "      <th>Campaign_Flag</th>\n",
       "      <th>Year</th>\n",
       "      <th>Month</th>\n",
       "      <th>Week</th>\n",
       "      <th>DayOfWeek</th>\n",
       "      <th>IsWeekend</th>\n",
       "      <th>Price_Diff</th>\n",
       "      <th>Discount_Flag</th>\n",
       "    </tr>\n",
       "  </thead>\n",
       "  <tbody>\n",
       "    <tr>\n",
       "      <th>1572</th>\n",
       "      <td>12/30/2024</td>\n",
       "      <td>Abuja</td>\n",
       "      <td>Supplements</td>\n",
       "      <td>5</td>\n",
       "      <td>30128</td>\n",
       "      <td>28560</td>\n",
       "      <td>0</td>\n",
       "      <td>104.99</td>\n",
       "      <td>1</td>\n",
       "      <td>2024</td>\n",
       "      <td>9</td>\n",
       "      <td>35</td>\n",
       "      <td>6</td>\n",
       "      <td>1</td>\n",
       "      <td>1568</td>\n",
       "      <td>0</td>\n",
       "    </tr>\n",
       "    <tr>\n",
       "      <th>1573</th>\n",
       "      <td>12/30/2024</td>\n",
       "      <td>Lagos</td>\n",
       "      <td>Wellness Drinks</td>\n",
       "      <td>11</td>\n",
       "      <td>39200</td>\n",
       "      <td>45318</td>\n",
       "      <td>1</td>\n",
       "      <td>104.94</td>\n",
       "      <td>0</td>\n",
       "      <td>2024</td>\n",
       "      <td>11</td>\n",
       "      <td>45</td>\n",
       "      <td>6</td>\n",
       "      <td>1</td>\n",
       "      <td>-6118</td>\n",
       "      <td>1</td>\n",
       "    </tr>\n",
       "    <tr>\n",
       "      <th>1574</th>\n",
       "      <td>12/31/2024</td>\n",
       "      <td>Port Harcourt</td>\n",
       "      <td>Fitness Gear</td>\n",
       "      <td>22</td>\n",
       "      <td>119280</td>\n",
       "      <td>111454</td>\n",
       "      <td>0</td>\n",
       "      <td>97.84</td>\n",
       "      <td>1</td>\n",
       "      <td>2023</td>\n",
       "      <td>1</td>\n",
       "      <td>2</td>\n",
       "      <td>6</td>\n",
       "      <td>1</td>\n",
       "      <td>7826</td>\n",
       "      <td>0</td>\n",
       "    </tr>\n",
       "  </tbody>\n",
       "</table>\n",
       "</div>"
      ],
      "text/plain": [
       "            Date          Store Product_Category  Units_Sold   Price  \\\n",
       "1572  12/30/2024          Abuja      Supplements           5   30128   \n",
       "1573  12/30/2024          Lagos  Wellness Drinks          11   39200   \n",
       "1574  12/31/2024  Port Harcourt     Fitness Gear          22  119280   \n",
       "\n",
       "      Competitor_Price  Holiday_Flag     CPI  Campaign_Flag  Year  Month  \\\n",
       "1572             28560             0  104.99              1  2024      9   \n",
       "1573             45318             1  104.94              0  2024     11   \n",
       "1574            111454             0   97.84              1  2023      1   \n",
       "\n",
       "      Week  DayOfWeek  IsWeekend  Price_Diff  Discount_Flag  \n",
       "1572    35          6          1        1568              0  \n",
       "1573    45          6          1       -6118              1  \n",
       "1574     2          6          1        7826              0  "
      ]
     },
     "execution_count": 4,
     "metadata": {},
     "output_type": "execute_result"
    }
   ],
   "source": [
    "df.tail(3)"
   ]
  },
  {
   "cell_type": "code",
   "execution_count": 5,
   "metadata": {},
   "outputs": [
    {
     "data": {
      "text/plain": [
       "Date                 object\n",
       "Store                object\n",
       "Product_Category     object\n",
       "Units_Sold            int64\n",
       "Price                 int64\n",
       "Competitor_Price      int64\n",
       "Holiday_Flag          int64\n",
       "CPI                 float64\n",
       "Campaign_Flag         int64\n",
       "Year                  int64\n",
       "Month                 int64\n",
       "Week                  int64\n",
       "DayOfWeek             int64\n",
       "IsWeekend             int64\n",
       "Price_Diff            int64\n",
       "Discount_Flag         int64\n",
       "dtype: object"
      ]
     },
     "execution_count": 5,
     "metadata": {},
     "output_type": "execute_result"
    }
   ],
   "source": [
    "#checking the date type in the dataset\n",
    "df.dtypes"
   ]
  },
  {
   "cell_type": "code",
   "execution_count": 6,
   "metadata": {},
   "outputs": [
    {
     "data": {
      "text/html": [
       "<div>\n",
       "<style scoped>\n",
       "    .dataframe tbody tr th:only-of-type {\n",
       "        vertical-align: middle;\n",
       "    }\n",
       "\n",
       "    .dataframe tbody tr th {\n",
       "        vertical-align: top;\n",
       "    }\n",
       "\n",
       "    .dataframe thead th {\n",
       "        text-align: right;\n",
       "    }\n",
       "</style>\n",
       "<table border=\"1\" class=\"dataframe\">\n",
       "  <thead>\n",
       "    <tr style=\"text-align: right;\">\n",
       "      <th></th>\n",
       "      <th>Date</th>\n",
       "      <th>Store</th>\n",
       "      <th>Product_Category</th>\n",
       "      <th>Units_Sold</th>\n",
       "      <th>Price</th>\n",
       "      <th>Competitor_Price</th>\n",
       "      <th>Holiday_Flag</th>\n",
       "      <th>CPI</th>\n",
       "      <th>Campaign_Flag</th>\n",
       "      <th>Year</th>\n",
       "      <th>Month</th>\n",
       "      <th>Week</th>\n",
       "      <th>DayOfWeek</th>\n",
       "      <th>IsWeekend</th>\n",
       "      <th>Price_Diff</th>\n",
       "      <th>Discount_Flag</th>\n",
       "    </tr>\n",
       "  </thead>\n",
       "  <tbody>\n",
       "    <tr>\n",
       "      <th>0</th>\n",
       "      <td>False</td>\n",
       "      <td>False</td>\n",
       "      <td>False</td>\n",
       "      <td>False</td>\n",
       "      <td>False</td>\n",
       "      <td>False</td>\n",
       "      <td>False</td>\n",
       "      <td>False</td>\n",
       "      <td>False</td>\n",
       "      <td>False</td>\n",
       "      <td>False</td>\n",
       "      <td>False</td>\n",
       "      <td>False</td>\n",
       "      <td>False</td>\n",
       "      <td>False</td>\n",
       "      <td>False</td>\n",
       "    </tr>\n",
       "    <tr>\n",
       "      <th>1</th>\n",
       "      <td>False</td>\n",
       "      <td>False</td>\n",
       "      <td>False</td>\n",
       "      <td>False</td>\n",
       "      <td>False</td>\n",
       "      <td>False</td>\n",
       "      <td>False</td>\n",
       "      <td>False</td>\n",
       "      <td>False</td>\n",
       "      <td>False</td>\n",
       "      <td>False</td>\n",
       "      <td>False</td>\n",
       "      <td>False</td>\n",
       "      <td>False</td>\n",
       "      <td>False</td>\n",
       "      <td>False</td>\n",
       "    </tr>\n",
       "    <tr>\n",
       "      <th>2</th>\n",
       "      <td>False</td>\n",
       "      <td>False</td>\n",
       "      <td>False</td>\n",
       "      <td>False</td>\n",
       "      <td>False</td>\n",
       "      <td>False</td>\n",
       "      <td>False</td>\n",
       "      <td>False</td>\n",
       "      <td>False</td>\n",
       "      <td>False</td>\n",
       "      <td>False</td>\n",
       "      <td>False</td>\n",
       "      <td>False</td>\n",
       "      <td>False</td>\n",
       "      <td>False</td>\n",
       "      <td>False</td>\n",
       "    </tr>\n",
       "    <tr>\n",
       "      <th>3</th>\n",
       "      <td>False</td>\n",
       "      <td>False</td>\n",
       "      <td>False</td>\n",
       "      <td>False</td>\n",
       "      <td>False</td>\n",
       "      <td>False</td>\n",
       "      <td>False</td>\n",
       "      <td>False</td>\n",
       "      <td>False</td>\n",
       "      <td>False</td>\n",
       "      <td>False</td>\n",
       "      <td>False</td>\n",
       "      <td>False</td>\n",
       "      <td>False</td>\n",
       "      <td>False</td>\n",
       "      <td>False</td>\n",
       "    </tr>\n",
       "    <tr>\n",
       "      <th>4</th>\n",
       "      <td>False</td>\n",
       "      <td>False</td>\n",
       "      <td>False</td>\n",
       "      <td>False</td>\n",
       "      <td>False</td>\n",
       "      <td>False</td>\n",
       "      <td>False</td>\n",
       "      <td>False</td>\n",
       "      <td>False</td>\n",
       "      <td>False</td>\n",
       "      <td>False</td>\n",
       "      <td>False</td>\n",
       "      <td>False</td>\n",
       "      <td>False</td>\n",
       "      <td>False</td>\n",
       "      <td>False</td>\n",
       "    </tr>\n",
       "    <tr>\n",
       "      <th>...</th>\n",
       "      <td>...</td>\n",
       "      <td>...</td>\n",
       "      <td>...</td>\n",
       "      <td>...</td>\n",
       "      <td>...</td>\n",
       "      <td>...</td>\n",
       "      <td>...</td>\n",
       "      <td>...</td>\n",
       "      <td>...</td>\n",
       "      <td>...</td>\n",
       "      <td>...</td>\n",
       "      <td>...</td>\n",
       "      <td>...</td>\n",
       "      <td>...</td>\n",
       "      <td>...</td>\n",
       "      <td>...</td>\n",
       "    </tr>\n",
       "    <tr>\n",
       "      <th>1570</th>\n",
       "      <td>False</td>\n",
       "      <td>False</td>\n",
       "      <td>False</td>\n",
       "      <td>False</td>\n",
       "      <td>False</td>\n",
       "      <td>False</td>\n",
       "      <td>False</td>\n",
       "      <td>False</td>\n",
       "      <td>False</td>\n",
       "      <td>False</td>\n",
       "      <td>False</td>\n",
       "      <td>False</td>\n",
       "      <td>False</td>\n",
       "      <td>False</td>\n",
       "      <td>False</td>\n",
       "      <td>False</td>\n",
       "    </tr>\n",
       "    <tr>\n",
       "      <th>1571</th>\n",
       "      <td>False</td>\n",
       "      <td>False</td>\n",
       "      <td>False</td>\n",
       "      <td>False</td>\n",
       "      <td>False</td>\n",
       "      <td>False</td>\n",
       "      <td>False</td>\n",
       "      <td>False</td>\n",
       "      <td>False</td>\n",
       "      <td>False</td>\n",
       "      <td>False</td>\n",
       "      <td>False</td>\n",
       "      <td>False</td>\n",
       "      <td>False</td>\n",
       "      <td>False</td>\n",
       "      <td>False</td>\n",
       "    </tr>\n",
       "    <tr>\n",
       "      <th>1572</th>\n",
       "      <td>False</td>\n",
       "      <td>False</td>\n",
       "      <td>False</td>\n",
       "      <td>False</td>\n",
       "      <td>False</td>\n",
       "      <td>False</td>\n",
       "      <td>False</td>\n",
       "      <td>False</td>\n",
       "      <td>False</td>\n",
       "      <td>False</td>\n",
       "      <td>False</td>\n",
       "      <td>False</td>\n",
       "      <td>False</td>\n",
       "      <td>False</td>\n",
       "      <td>False</td>\n",
       "      <td>False</td>\n",
       "    </tr>\n",
       "    <tr>\n",
       "      <th>1573</th>\n",
       "      <td>False</td>\n",
       "      <td>False</td>\n",
       "      <td>False</td>\n",
       "      <td>False</td>\n",
       "      <td>False</td>\n",
       "      <td>False</td>\n",
       "      <td>False</td>\n",
       "      <td>False</td>\n",
       "      <td>False</td>\n",
       "      <td>False</td>\n",
       "      <td>False</td>\n",
       "      <td>False</td>\n",
       "      <td>False</td>\n",
       "      <td>False</td>\n",
       "      <td>False</td>\n",
       "      <td>False</td>\n",
       "    </tr>\n",
       "    <tr>\n",
       "      <th>1574</th>\n",
       "      <td>False</td>\n",
       "      <td>False</td>\n",
       "      <td>False</td>\n",
       "      <td>False</td>\n",
       "      <td>False</td>\n",
       "      <td>False</td>\n",
       "      <td>False</td>\n",
       "      <td>False</td>\n",
       "      <td>False</td>\n",
       "      <td>False</td>\n",
       "      <td>False</td>\n",
       "      <td>False</td>\n",
       "      <td>False</td>\n",
       "      <td>False</td>\n",
       "      <td>False</td>\n",
       "      <td>False</td>\n",
       "    </tr>\n",
       "  </tbody>\n",
       "</table>\n",
       "<p>1575 rows × 16 columns</p>\n",
       "</div>"
      ],
      "text/plain": [
       "       Date  Store  Product_Category  Units_Sold  Price  Competitor_Price  \\\n",
       "0     False  False             False       False  False             False   \n",
       "1     False  False             False       False  False             False   \n",
       "2     False  False             False       False  False             False   \n",
       "3     False  False             False       False  False             False   \n",
       "4     False  False             False       False  False             False   \n",
       "...     ...    ...               ...         ...    ...               ...   \n",
       "1570  False  False             False       False  False             False   \n",
       "1571  False  False             False       False  False             False   \n",
       "1572  False  False             False       False  False             False   \n",
       "1573  False  False             False       False  False             False   \n",
       "1574  False  False             False       False  False             False   \n",
       "\n",
       "      Holiday_Flag    CPI  Campaign_Flag   Year  Month   Week  DayOfWeek  \\\n",
       "0            False  False          False  False  False  False      False   \n",
       "1            False  False          False  False  False  False      False   \n",
       "2            False  False          False  False  False  False      False   \n",
       "3            False  False          False  False  False  False      False   \n",
       "4            False  False          False  False  False  False      False   \n",
       "...            ...    ...            ...    ...    ...    ...        ...   \n",
       "1570         False  False          False  False  False  False      False   \n",
       "1571         False  False          False  False  False  False      False   \n",
       "1572         False  False          False  False  False  False      False   \n",
       "1573         False  False          False  False  False  False      False   \n",
       "1574         False  False          False  False  False  False      False   \n",
       "\n",
       "      IsWeekend  Price_Diff  Discount_Flag  \n",
       "0         False       False          False  \n",
       "1         False       False          False  \n",
       "2         False       False          False  \n",
       "3         False       False          False  \n",
       "4         False       False          False  \n",
       "...         ...         ...            ...  \n",
       "1570      False       False          False  \n",
       "1571      False       False          False  \n",
       "1572      False       False          False  \n",
       "1573      False       False          False  \n",
       "1574      False       False          False  \n",
       "\n",
       "[1575 rows x 16 columns]"
      ]
     },
     "execution_count": 6,
     "metadata": {},
     "output_type": "execute_result"
    }
   ],
   "source": [
    "# Address missing values in the dataset.\n",
    "df.isnull()"
   ]
  },
  {
   "cell_type": "code",
   "execution_count": 7,
   "metadata": {},
   "outputs": [
    {
     "data": {
      "text/plain": [
       "0"
      ]
     },
     "execution_count": 7,
     "metadata": {},
     "output_type": "execute_result"
    }
   ],
   "source": [
    "# Total number of missing values in each columns of the data set\n",
    "df.isnull().sum()\n",
    "# Total sum of missing value in dataset\n",
    "df.isnull().sum().sum()"
   ]
  },
  {
   "cell_type": "code",
   "execution_count": 8,
   "metadata": {},
   "outputs": [
    {
     "data": {
      "image/png": "[encoded data removed]",
      "text/plain": [
       "<Figure size 1200x600 with 1 Axes>"
      ]
     },
     "metadata": {},
     "output_type": "display_data"
    }
   ],
   "source": [
    "# Converting 'Date' to datetime format\n",
    "df['Date'] = pd.to_datetime(df['Date'], errors='coerce')\n",
    "\n",
    "# monthly summary for analysis\n",
    "monthly_summary = df.groupby(['Year', 'Month']).agg({\n",
    "    'Units_Sold': 'sum',\n",
    "    'Price': 'mean',\n",
    "    'Competitor_Price': 'mean',\n",
    "    'CPI': 'mean',\n",
    "    'Campaign_Flag': 'sum',\n",
    "    'Holiday_Flag': 'sum'\n",
    "}).reset_index()\n",
    "\n",
    "# Creating a new 'Month_Year' column for plotting\n",
    "monthly_summary['Month_Year'] = pd.to_datetime(monthly_summary[['Year', 'Month']].assign(DAY=1))\n",
    "\n",
    "# Plotting: Units Sold Over Time\n",
    "plt.figure(figsize=(12, 6))\n",
    "sns.lineplot(data=monthly_summary, x='Month_Year', y='Units_Sold')\n",
    "plt.title('Total Units Sold Over Time')\n",
    "plt.xlabel('Date')\n",
    "plt.ylabel('Units Sold')\n",
    "plt.xticks(rotation=45)\n",
    "plt.tight_layout()\n",
    "plt.show()"
   ]
  },
  {
   "cell_type": "code",
   "execution_count": 9,
   "metadata": {},
   "outputs": [
    {
     "data": {
      "image/png": "[encoded data removed]",
      "text/plain": [
       "<Figure size 800x600 with 1 Axes>"
      ]
     },
     "metadata": {},
     "output_type": "display_data"
    }
   ],
   "source": [
    "# Average Units Sold by Store\n",
    "plt.figure(figsize=(8, 6))\n",
    "store_avg = df.groupby('Store')['Units_Sold'].mean().sort_values(ascending=False)\n",
    "sns.barplot(x=store_avg.index, y=store_avg.values)\n",
    "plt.title('Average Units Sold by Store')\n",
    "plt.ylabel('Average Units Sold')\n",
    "plt.xlabel('Store')\n",
    "plt.tight_layout()\n",
    "plt.show()\n"
   ]
  },
  {
   "cell_type": "code",
   "execution_count": 10,
   "metadata": {},
   "outputs": [
    {
     "data": {
      "image/png": "[encoded data removed]",
      "text/plain": [
       "<Figure size 800x600 with 1 Axes>"
      ]
     },
     "metadata": {},
     "output_type": "display_data"
    }
   ],
   "source": [
    "# Average Units Sold by Product Category\n",
    "plt.figure(figsize=(8, 6))\n",
    "category_avg = df.groupby('Product_Category')['Units_Sold'].mean().sort_values(ascending=False)\n",
    "sns.barplot(x=category_avg.index, y=category_avg.values)\n",
    "plt.title('Average Units Sold by Product Category')\n",
    "plt.ylabel('Average Units Sold')\n",
    "plt.xlabel('Product Category')\n",
    "plt.tight_layout()\n",
    "plt.show()\n"
   ]
  },
  {
   "cell_type": "code",
   "execution_count": 11,
   "metadata": {},
   "outputs": [
    {
     "data": {
      "image/png": "[encoded data removed]",
      "text/plain": [
       "<Figure size 700x500 with 1 Axes>"
      ]
     },
     "metadata": {},
     "output_type": "display_data"
    }
   ],
   "source": [
    "# Average Units Sold by Holiday Flag\n",
    "plt.figure(figsize=(7, 5))\n",
    "holiday_avg = df.groupby('Holiday_Flag')['Units_Sold'].mean()\n",
    "sns.barplot(x=holiday_avg.index.map({0: 'Non-Holiday', 1: 'Holiday'}), y=holiday_avg.values)\n",
    "plt.title('Average Units Sold on Holidays vs Non-Holidays')\n",
    "plt.ylabel('Average Units Sold')\n",
    "plt.xlabel('Holiday Status')\n",
    "plt.tight_layout()\n",
    "plt.show()\n"
   ]
  },
  {
   "cell_type": "markdown",
   "metadata": {},
   "source": [
    "## Aggregate Monthly Demand"
   ]
  },
  {
   "cell_type": "code",
   "execution_count": 12,
   "metadata": {},
   "outputs": [
    {
     "data": {
      "text/html": [
       "<div>\n",
       "<style scoped>\n",
       "    .dataframe tbody tr th:only-of-type {\n",
       "        vertical-align: middle;\n",
       "    }\n",
       "\n",
       "    .dataframe tbody tr th {\n",
       "        vertical-align: top;\n",
       "    }\n",
       "\n",
       "    .dataframe thead th {\n",
       "        text-align: right;\n",
       "    }\n",
       "</style>\n",
       "<table border=\"1\" class=\"dataframe\">\n",
       "  <thead>\n",
       "    <tr style=\"text-align: right;\">\n",
       "      <th></th>\n",
       "      <th>ds</th>\n",
       "      <th>y</th>\n",
       "      <th>CPI</th>\n",
       "      <th>Campaigns</th>\n",
       "      <th>Holidays</th>\n",
       "    </tr>\n",
       "  </thead>\n",
       "  <tbody>\n",
       "    <tr>\n",
       "      <th>0</th>\n",
       "      <td>2023-01-01</td>\n",
       "      <td>1089</td>\n",
       "      <td>102.938772</td>\n",
       "      <td>16</td>\n",
       "      <td>9</td>\n",
       "    </tr>\n",
       "    <tr>\n",
       "      <th>1</th>\n",
       "      <td>2023-02-01</td>\n",
       "      <td>1314</td>\n",
       "      <td>102.527797</td>\n",
       "      <td>16</td>\n",
       "      <td>9</td>\n",
       "    </tr>\n",
       "    <tr>\n",
       "      <th>2</th>\n",
       "      <td>2023-03-01</td>\n",
       "      <td>1086</td>\n",
       "      <td>103.027679</td>\n",
       "      <td>16</td>\n",
       "      <td>8</td>\n",
       "    </tr>\n",
       "    <tr>\n",
       "      <th>3</th>\n",
       "      <td>2023-04-01</td>\n",
       "      <td>1415</td>\n",
       "      <td>102.533824</td>\n",
       "      <td>16</td>\n",
       "      <td>10</td>\n",
       "    </tr>\n",
       "    <tr>\n",
       "      <th>4</th>\n",
       "      <td>2023-05-01</td>\n",
       "      <td>1173</td>\n",
       "      <td>102.696949</td>\n",
       "      <td>20</td>\n",
       "      <td>7</td>\n",
       "    </tr>\n",
       "  </tbody>\n",
       "</table>\n",
       "</div>"
      ],
      "text/plain": [
       "          ds     y         CPI  Campaigns  Holidays\n",
       "0 2023-01-01  1089  102.938772         16         9\n",
       "1 2023-02-01  1314  102.527797         16         9\n",
       "2 2023-03-01  1086  103.027679         16         8\n",
       "3 2023-04-01  1415  102.533824         16        10\n",
       "4 2023-05-01  1173  102.696949         20         7"
      ]
     },
     "execution_count": 12,
     "metadata": {},
     "output_type": "execute_result"
    }
   ],
   "source": [
    "# Aggregate monthly data\n",
    "df['Month'] = df['Date'].dt.to_period('M').dt.to_timestamp()\n",
    "monthly_data = df.groupby('Month').agg({\n",
    "    'Units_Sold': 'sum',\n",
    "    'CPI': 'mean',\n",
    "    'Campaign_Flag': 'sum',\n",
    "    'Holiday_Flag': 'sum'\n",
    "}).reset_index()\n",
    "monthly_data.columns = ['ds', 'y', 'CPI', 'Campaigns', 'Holidays']\n",
    "monthly_data.head()\n"
   ]
  },
  {
   "cell_type": "markdown",
   "metadata": {},
   "source": [
    "## Build Prophet Model with Regressors"
   ]
  },
  {
   "cell_type": "code",
   "execution_count": 13,
   "metadata": {},
   "outputs": [
    {
     "name": "stderr",
     "output_type": "stream",
     "text": [
      "17:46:52 - cmdstanpy - INFO - Chain [1] start processing\n",
      "17:46:52 - cmdstanpy - INFO - Chain [1] done processing\n"
     ]
    },
    {
     "data": {
      "text/plain": [
       "<prophet.forecaster.Prophet at 0x1cc2158b170>"
      ]
     },
     "execution_count": 13,
     "metadata": {},
     "output_type": "execute_result"
    }
   ],
   "source": [
    "# Initialize Prophet and add regressors\n",
    "model = Prophet()\n",
    "model.add_regressor('CPI')\n",
    "model.add_regressor('Campaigns')\n",
    "model.add_regressor('Holidays')\n",
    "\n",
    "# Fit the model\n",
    "model.fit(monthly_data)"
   ]
  },
  {
   "cell_type": "markdown",
   "metadata": {},
   "source": [
    "## Forecast Future Demand"
   ]
  },
  {
   "cell_type": "code",
   "execution_count": 14,
   "metadata": {},
   "outputs": [
    {
     "data": {
      "application/vnd.plotly.v1+json": {
       "config": {
        "plotlyServerURL": "https://plot.ly"
       },
       "data": [
        {
         "marker": {
          "color": "black",
          "size": 4
         },
         "mode": "markers",
         "name": "Actual",
         "type": "scatter",
         "x": [
          "2023-01-01T00:00:00",
          "2023-02-01T00:00:00",
          "2023-03-01T00:00:00",
          "2023-04-01T00:00:00",
          "2023-05-01T00:00:00",
          "2023-06-01T00:00:00",
          "2023-07-01T00:00:00",
          "2023-08-01T00:00:00",
          "2023-09-01T00:00:00",
          "2023-10-01T00:00:00",
          "2023-11-01T00:00:00",
          "2023-12-01T00:00:00",
          "2024-01-01T00:00:00",
          "2024-02-01T00:00:00",
          "2024-03-01T00:00:00",
          "2024-04-01T00:00:00",
          "2024-05-01T00:00:00",
          "2024-06-01T00:00:00",
          "2024-07-01T00:00:00",
          "2024-08-01T00:00:00",
          "2024-09-01T00:00:00",
          "2024-10-01T00:00:00",
          "2024-11-01T00:00:00",
          "2024-12-01T00:00:00"
         ],
         "y": [
          1089,
          1314,
          1086,
          1415,
          1173,
          1498,
          1419,
          1461,
          1329,
          1130,
          1477,
          1958,
          1372,
          1260,
          1131,
          1435,
          1239,
          1341,
          1476,
          1068,
          1389,
          1263,
          1362,
          1747
         ]
        },
        {
         "hoverinfo": "skip",
         "line": {
          "width": 0
         },
         "mode": "lines",
         "type": "scatter",
         "x": [
          "2023-01-01T00:00:00",
          "2023-02-01T00:00:00",
          "2023-03-01T00:00:00",
          "2023-04-01T00:00:00",
          "2023-05-01T00:00:00",
          "2023-06-01T00:00:00",
          "2023-07-01T00:00:00",
          "2023-08-01T00:00:00",
          "2023-09-01T00:00:00",
          "2023-10-01T00:00:00",
          "2023-11-01T00:00:00",
          "2023-12-01T00:00:00",
          "2024-01-01T00:00:00",
          "2024-02-01T00:00:00",
          "2024-03-01T00:00:00",
          "2024-04-01T00:00:00",
          "2024-05-01T00:00:00",
          "2024-06-01T00:00:00",
          "2024-07-01T00:00:00",
          "2024-08-01T00:00:00",
          "2024-09-01T00:00:00",
          "2024-10-01T00:00:00",
          "2024-11-01T00:00:00",
          "2024-12-01T00:00:00",
          "2024-12-31T00:00:00",
          "2025-01-31T00:00:00",
          "2025-02-28T00:00:00",
          "2025-03-31T00:00:00",
          "2025-04-30T00:00:00",
          "2025-05-31T00:00:00"
         ],
         "y": [
          1148.832040191733,
          1154.5436932887794,
          1142.0181631574085,
          1158.6680193121608,
          1171.7673475170477,
          1164.758617949887,
          1173.8797697368823,
          1181.6984188174708,
          1171.0446798060334,
          1174.715994827214,
          1173.06626626662,
          1173.4226540964376,
          1184.3672744300516,
          1190.5953726573862,
          1185.9053439949053,
          1200.3963310437837,
          1210.4257897175205,
          1192.9712773925612,
          1206.9593315377492,
          1206.83166630047,
          1213.8668463287506,
          1207.6923301561383,
          1226.561166450429,
          1220.0508022592044,
          1223.4860628718761,
          1212.474498645783,
          1229.5128509844892,
          1227.4058370520345,
          1234.8505663377387,
          1229.4703212921631
         ]
        },
        {
         "fill": "tonexty",
         "fillcolor": "rgba(0, 114, 178, 0.2)",
         "line": {
          "color": "#0072B2",
          "width": 2
         },
         "mode": "lines",
         "name": "Predicted",
         "type": "scatter",
         "x": [
          "2023-01-01T00:00:00",
          "2023-02-01T00:00:00",
          "2023-03-01T00:00:00",
          "2023-04-01T00:00:00",
          "2023-05-01T00:00:00",
          "2023-06-01T00:00:00",
          "2023-07-01T00:00:00",
          "2023-08-01T00:00:00",
          "2023-09-01T00:00:00",
          "2023-10-01T00:00:00",
          "2023-11-01T00:00:00",
          "2023-12-01T00:00:00",
          "2024-01-01T00:00:00",
          "2024-02-01T00:00:00",
          "2024-03-01T00:00:00",
          "2024-04-01T00:00:00",
          "2024-05-01T00:00:00",
          "2024-06-01T00:00:00",
          "2024-07-01T00:00:00",
          "2024-08-01T00:00:00",
          "2024-09-01T00:00:00",
          "2024-10-01T00:00:00",
          "2024-11-01T00:00:00",
          "2024-12-01T00:00:00",
          "2024-12-31T00:00:00",
          "2025-01-31T00:00:00",
          "2025-02-28T00:00:00",
          "2025-03-31T00:00:00",
          "2025-04-30T00:00:00",
          "2025-05-31T00:00:00"
         ],
         "y": [
          1309.0297003856458,
          1312.0555910682172,
          1314.7886536480048,
          1317.814544360389,
          1320.742825706158,
          1323.7687164125955,
          1326.6969977278713,
          1329.722888449446,
          1332.7487791946442,
          1335.6770605622785,
          1338.7029513255638,
          1341.6312327292726,
          1344.6571235342103,
          1347.6830143557909,
          1350.5136864494452,
          1353.5395773164569,
          1356.4678587775563,
          1359.493749648786,
          1362.422031172371,
          1365.4479220794105,
          1368.4738129864504,
          1371.402094509392,
          1374.4279854164317,
          1377.3562669393734,
          1380.2845484623153,
          1383.310439369355,
          1386.0435021241008,
          1389.0693930311404,
          1391.997674554082,
          1395.0235654611217
         ]
        },
        {
         "fill": "tonexty",
         "fillcolor": "rgba(0, 114, 178, 0.2)",
         "hoverinfo": "skip",
         "line": {
          "width": 0
         },
         "mode": "lines",
         "type": "scatter",
         "x": [
          "2023-01-01T00:00:00",
          "2023-02-01T00:00:00",
          "2023-03-01T00:00:00",
          "2023-04-01T00:00:00",
          "2023-05-01T00:00:00",
          "2023-06-01T00:00:00",
          "2023-07-01T00:00:00",
          "2023-08-01T00:00:00",
          "2023-09-01T00:00:00",
          "2023-10-01T00:00:00",
          "2023-11-01T00:00:00",
          "2023-12-01T00:00:00",
          "2024-01-01T00:00:00",
          "2024-02-01T00:00:00",
          "2024-03-01T00:00:00",
          "2024-04-01T00:00:00",
          "2024-05-01T00:00:00",
          "2024-06-01T00:00:00",
          "2024-07-01T00:00:00",
          "2024-08-01T00:00:00",
          "2024-09-01T00:00:00",
          "2024-10-01T00:00:00",
          "2024-11-01T00:00:00",
          "2024-12-01T00:00:00",
          "2024-12-31T00:00:00",
          "2025-01-31T00:00:00",
          "2025-02-28T00:00:00",
          "2025-03-31T00:00:00",
          "2025-04-30T00:00:00",
          "2025-05-31T00:00:00"
         ],
         "y": [
          1467.3209096503613,
          1467.7945335082811,
          1465.063076223964,
          1468.503861295837,
          1486.2566886093934,
          1489.8164045825506,
          1481.6936642119203,
          1478.6891553060395,
          1490.1488734092977,
          1499.8159937636322,
          1496.1786017088275,
          1488.3685705187447,
          1501.7404823195977,
          1497.7121039403303,
          1510.4412438761617,
          1503.6764622953485,
          1511.2058718042415,
          1514.588623326018,
          1525.031374447916,
          1516.9787585418203,
          1517.5416320318775,
          1512.1217690863878,
          1529.6952449291039,
          1520.9983582009836,
          1534.3723647649508,
          1550.0557966494396,
          1537.976625072696,
          1550.24302238216,
          1547.9630768539298,
          1542.479438705517
         ]
        }
       ],
       "layout": {
        "height": 600,
        "showlegend": false,
        "template": {
         "data": {
          "bar": [
           {
            "error_x": {
             "color": "#2a3f5f"
            },
            "error_y": {
             "color": "#2a3f5f"
            },
            "marker": {
             "line": {
              "color": "#E5ECF6",
              "width": 0.5
             },
             "pattern": {
              "fillmode": "overlay",
              "size": 10,
              "solidity": 0.2
             }
            },
            "type": "bar"
           }
          ],
          "barpolar": [
           {
            "marker": {
             "line": {
              "color": "#E5ECF6",
              "width": 0.5
             },
             "pattern": {
              "fillmode": "overlay",
              "size": 10,
              "solidity": 0.2
             }
            },
            "type": "barpolar"
           }
          ],
          "carpet": [
           {
            "aaxis": {
             "endlinecolor": "#2a3f5f",
             "gridcolor": "white",
             "linecolor": "white",
             "minorgridcolor": "white",
             "startlinecolor": "#2a3f5f"
            },
            "baxis": {
             "endlinecolor": "#2a3f5f",
             "gridcolor": "white",
             "linecolor": "white",
             "minorgridcolor": "white",
             "startlinecolor": "#2a3f5f"
            },
            "type": "carpet"
           }
          ],
          "choropleth": [
           {
            "colorbar": {
             "outlinewidth": 0,
             "ticks": ""
            },
            "type": "choropleth"
           }
          ],
          "contour": [
           {
            "colorbar": {
             "outlinewidth": 0,
             "ticks": ""
            },
            "colorscale": [
             [
              0,
              "#0d0887"
             ],
             [
              0.1111111111111111,
              "#46039f"
             ],
             [
              0.2222222222222222,
              "#7201a8"
             ],
             [
              0.3333333333333333,
              "#9c179e"
             ],
             [
              0.4444444444444444,
              "#bd3786"
             ],
             [
              0.5555555555555556,
              "#d8576b"
             ],
             [
              0.6666666666666666,
              "#ed7953"
             ],
             [
              0.7777777777777778,
              "#fb9f3a"
             ],
             [
              0.8888888888888888,
              "#fdca26"
             ],
             [
              1,
              "#f0f921"
             ]
            ],
            "type": "contour"
           }
          ],
          "contourcarpet": [
           {
            "colorbar": {
             "outlinewidth": 0,
             "ticks": ""
            },
            "type": "contourcarpet"
           }
          ],
          "heatmap": [
           {
            "colorbar": {
             "outlinewidth": 0,
             "ticks": ""
            },
            "colorscale": [
             [
              0,
              "#0d0887"
             ],
             [
              0.1111111111111111,
              "#46039f"
             ],
             [
              0.2222222222222222,
              "#7201a8"
             ],
             [
              0.3333333333333333,
              "#9c179e"
             ],
             [
              0.4444444444444444,
              "#bd3786"
             ],
             [
              0.5555555555555556,
              "#d8576b"
             ],
             [
              0.6666666666666666,
              "#ed7953"
             ],
             [
              0.7777777777777778,
              "#fb9f3a"
             ],
             [
              0.8888888888888888,
              "#fdca26"
             ],
             [
              1,
              "#f0f921"
             ]
            ],
            "type": "heatmap"
           }
          ],
          "heatmapgl": [
           {
            "colorbar": {
             "outlinewidth": 0,
             "ticks": ""
            },
            "colorscale": [
             [
              0,
              "#0d0887"
             ],
             [
              0.1111111111111111,
              "#46039f"
             ],
             [
              0.2222222222222222,
              "#7201a8"
             ],
             [
              0.3333333333333333,
              "#9c179e"
             ],
             [
              0.4444444444444444,
              "#bd3786"
             ],
             [
              0.5555555555555556,
              "#d8576b"
             ],
             [
              0.6666666666666666,
              "#ed7953"
             ],
             [
              0.7777777777777778,
              "#fb9f3a"
             ],
             [
              0.8888888888888888,
              "#fdca26"
             ],
             [
              1,
              "#f0f921"
             ]
            ],
            "type": "heatmapgl"
           }
          ],
          "histogram": [
           {
            "marker": {
             "pattern": {
              "fillmode": "overlay",
              "size": 10,
              "solidity": 0.2
             }
            },
            "type": "histogram"
           }
          ],
          "histogram2d": [
           {
            "colorbar": {
             "outlinewidth": 0,
             "ticks": ""
            },
            "colorscale": [
             [
              0,
              "#0d0887"
             ],
             [
              0.1111111111111111,
              "#46039f"
             ],
             [
              0.2222222222222222,
              "#7201a8"
             ],
             [
              0.3333333333333333,
              "#9c179e"
             ],
             [
              0.4444444444444444,
              "#bd3786"
             ],
             [
              0.5555555555555556,
              "#d8576b"
             ],
             [
              0.6666666666666666,
              "#ed7953"
             ],
             [
              0.7777777777777778,
              "#fb9f3a"
             ],
             [
              0.8888888888888888,
              "#fdca26"
             ],
             [
              1,
              "#f0f921"
             ]
            ],
            "type": "histogram2d"
           }
          ],
          "histogram2dcontour": [
           {
            "colorbar": {
             "outlinewidth": 0,
             "ticks": ""
            },
            "colorscale": [
             [
              0,
              "#0d0887"
             ],
             [
              0.1111111111111111,
              "#46039f"
             ],
             [
              0.2222222222222222,
              "#7201a8"
             ],
             [
              0.3333333333333333,
              "#9c179e"
             ],
             [
              0.4444444444444444,
              "#bd3786"
             ],
             [
              0.5555555555555556,
              "#d8576b"
             ],
             [
              0.6666666666666666,
              "#ed7953"
             ],
             [
              0.7777777777777778,
              "#fb9f3a"
             ],
             [
              0.8888888888888888,
              "#fdca26"
             ],
             [
              1,
              "#f0f921"
             ]
            ],
            "type": "histogram2dcontour"
           }
          ],
          "mesh3d": [
           {
            "colorbar": {
             "outlinewidth": 0,
             "ticks": ""
            },
            "type": "mesh3d"
           }
          ],
          "parcoords": [
           {
            "line": {
             "colorbar": {
              "outlinewidth": 0,
              "ticks": ""
             }
            },
            "type": "parcoords"
           }
          ],
          "pie": [
           {
            "automargin": true,
            "type": "pie"
           }
          ],
          "scatter": [
           {
            "fillpattern": {
             "fillmode": "overlay",
             "size": 10,
             "solidity": 0.2
            },
            "type": "scatter"
           }
          ],
          "scatter3d": [
           {
            "line": {
             "colorbar": {
              "outlinewidth": 0,
              "ticks": ""
             }
            },
            "marker": {
             "colorbar": {
              "outlinewidth": 0,
              "ticks": ""
             }
            },
            "type": "scatter3d"
           }
          ],
          "scattercarpet": [
           {
            "marker": {
             "colorbar": {
              "outlinewidth": 0,
              "ticks": ""
             }
            },
            "type": "scattercarpet"
           }
          ],
          "scattergeo": [
           {
            "marker": {
             "colorbar": {
              "outlinewidth": 0,
              "ticks": ""
             }
            },
            "type": "scattergeo"
           }
          ],
          "scattergl": [
           {
            "marker": {
             "colorbar": {
              "outlinewidth": 0,
              "ticks": ""
             }
            },
            "type": "scattergl"
           }
          ],
          "scattermapbox": [
           {
            "marker": {
             "colorbar": {
              "outlinewidth": 0,
              "ticks": ""
             }
            },
            "type": "scattermapbox"
           }
          ],
          "scatterpolar": [
           {
            "marker": {
             "colorbar": {
              "outlinewidth": 0,
              "ticks": ""
             }
            },
            "type": "scatterpolar"
           }
          ],
          "scatterpolargl": [
           {
            "marker": {
             "colorbar": {
              "outlinewidth": 0,
              "ticks": ""
             }
            },
            "type": "scatterpolargl"
           }
          ],
          "scatterternary": [
           {
            "marker": {
             "colorbar": {
              "outlinewidth": 0,
              "ticks": ""
             }
            },
            "type": "scatterternary"
           }
          ],
          "surface": [
           {
            "colorbar": {
             "outlinewidth": 0,
             "ticks": ""
            },
            "colorscale": [
             [
              0,
              "#0d0887"
             ],
             [
              0.1111111111111111,
              "#46039f"
             ],
             [
              0.2222222222222222,
              "#7201a8"
             ],
             [
              0.3333333333333333,
              "#9c179e"
             ],
             [
              0.4444444444444444,
              "#bd3786"
             ],
             [
              0.5555555555555556,
              "#d8576b"
             ],
             [
              0.6666666666666666,
              "#ed7953"
             ],
             [
              0.7777777777777778,
              "#fb9f3a"
             ],
             [
              0.8888888888888888,
              "#fdca26"
             ],
             [
              1,
              "#f0f921"
             ]
            ],
            "type": "surface"
           }
          ],
          "table": [
           {
            "cells": {
             "fill": {
              "color": "#EBF0F8"
             },
             "line": {
              "color": "white"
             }
            },
            "header": {
             "fill": {
              "color": "#C8D4E3"
             },
             "line": {
              "color": "white"
             }
            },
            "type": "table"
           }
          ]
         },
         "layout": {
          "annotationdefaults": {
           "arrowcolor": "#2a3f5f",
           "arrowhead": 0,
           "arrowwidth": 1
          },
          "autotypenumbers": "strict",
          "coloraxis": {
           "colorbar": {
            "outlinewidth": 0,
            "ticks": ""
           }
          },
          "colorscale": {
           "diverging": [
            [
             0,
             "#8e0152"
            ],
            [
             0.1,
             "#c51b7d"
            ],
            [
             0.2,
             "#de77ae"
            ],
            [
             0.3,
             "#f1b6da"
            ],
            [
             0.4,
             "#fde0ef"
            ],
            [
             0.5,
             "#f7f7f7"
            ],
            [
             0.6,
             "#e6f5d0"
            ],
            [
             0.7,
             "#b8e186"
            ],
            [
             0.8,
             "#7fbc41"
            ],
            [
             0.9,
             "#4d9221"
            ],
            [
             1,
             "#276419"
            ]
           ],
           "sequential": [
            [
             0,
             "#0d0887"
            ],
            [
             0.1111111111111111,
             "#46039f"
            ],
            [
             0.2222222222222222,
             "#7201a8"
            ],
            [
             0.3333333333333333,
             "#9c179e"
            ],
            [
             0.4444444444444444,
             "#bd3786"
            ],
            [
             0.5555555555555556,
             "#d8576b"
            ],
            [
             0.6666666666666666,
             "#ed7953"
            ],
            [
             0.7777777777777778,
             "#fb9f3a"
            ],
            [
             0.8888888888888888,
             "#fdca26"
            ],
            [
             1,
             "#f0f921"
            ]
           ],
           "sequentialminus": [
            [
             0,
             "#0d0887"
            ],
            [
             0.1111111111111111,
             "#46039f"
            ],
            [
             0.2222222222222222,
             "#7201a8"
            ],
            [
             0.3333333333333333,
             "#9c179e"
            ],
            [
             0.4444444444444444,
             "#bd3786"
            ],
            [
             0.5555555555555556,
             "#d8576b"
            ],
            [
             0.6666666666666666,
             "#ed7953"
            ],
            [
             0.7777777777777778,
             "#fb9f3a"
            ],
            [
             0.8888888888888888,
             "#fdca26"
            ],
            [
             1,
             "#f0f921"
            ]
           ]
          },
          "colorway": [
           "#636efa",
           "#EF553B",
           "#00cc96",
           "#ab63fa",
           "#FFA15A",
           "#19d3f3",
           "#FF6692",
           "#B6E880",
           "#FF97FF",
           "#FECB52"
          ],
          "font": {
           "color": "#2a3f5f"
          },
          "geo": {
           "bgcolor": "white",
           "lakecolor": "white",
           "landcolor": "#E5ECF6",
           "showlakes": true,
           "showland": true,
           "subunitcolor": "white"
          },
          "hoverlabel": {
           "align": "left"
          },
          "hovermode": "closest",
          "mapbox": {
           "style": "light"
          },
          "paper_bgcolor": "white",
          "plot_bgcolor": "#E5ECF6",
          "polar": {
           "angularaxis": {
            "gridcolor": "white",
            "linecolor": "white",
            "ticks": ""
           },
           "bgcolor": "#E5ECF6",
           "radialaxis": {
            "gridcolor": "white",
            "linecolor": "white",
            "ticks": ""
           }
          },
          "scene": {
           "xaxis": {
            "backgroundcolor": "#E5ECF6",
            "gridcolor": "white",
            "gridwidth": 2,
            "linecolor": "white",
            "showbackground": true,
            "ticks": "",
            "zerolinecolor": "white"
           },
           "yaxis": {
            "backgroundcolor": "#E5ECF6",
            "gridcolor": "white",
            "gridwidth": 2,
            "linecolor": "white",
            "showbackground": true,
            "ticks": "",
            "zerolinecolor": "white"
           },
           "zaxis": {
            "backgroundcolor": "#E5ECF6",
            "gridcolor": "white",
            "gridwidth": 2,
            "linecolor": "white",
            "showbackground": true,
            "ticks": "",
            "zerolinecolor": "white"
           }
          },
          "shapedefaults": {
           "line": {
            "color": "#2a3f5f"
           }
          },
          "ternary": {
           "aaxis": {
            "gridcolor": "white",
            "linecolor": "white",
            "ticks": ""
           },
           "baxis": {
            "gridcolor": "white",
            "linecolor": "white",
            "ticks": ""
           },
           "bgcolor": "#E5ECF6",
           "caxis": {
            "gridcolor": "white",
            "linecolor": "white",
            "ticks": ""
           }
          },
          "title": {
           "x": 0.05
          },
          "xaxis": {
           "automargin": true,
           "gridcolor": "white",
           "linecolor": "white",
           "ticks": "",
           "title": {
            "standoff": 15
           },
           "zerolinecolor": "white",
           "zerolinewidth": 2
          },
          "yaxis": {
           "automargin": true,
           "gridcolor": "white",
           "linecolor": "white",
           "ticks": "",
           "title": {
            "standoff": 15
           },
           "zerolinecolor": "white",
           "zerolinewidth": 2
          }
         }
        },
        "width": 900,
        "xaxis": {
         "rangeselector": {
          "buttons": [
           {
            "count": 7,
            "label": "1w",
            "step": "day",
            "stepmode": "backward"
           },
           {
            "count": 1,
            "label": "1m",
            "step": "month",
            "stepmode": "backward"
           },
           {
            "count": 6,
            "label": "6m",
            "step": "month",
            "stepmode": "backward"
           },
           {
            "count": 1,
            "label": "1y",
            "step": "year",
            "stepmode": "backward"
           },
           {
            "step": "all"
           }
          ]
         },
         "rangeslider": {
          "visible": true
         },
         "title": {
          "text": "ds"
         },
         "type": "date"
        },
        "yaxis": {
         "title": {
          "text": "y"
         }
        }
       }
      }
     },
     "metadata": {},
     "output_type": "display_data"
    }
   ],
   "source": [
    "# Create future dataframe\n",
    "future = model.make_future_dataframe(periods=6, freq='M')\n",
    "\n",
    "# Add future values of regressors (assume average of last 6 months for now)\n",
    "recent = monthly_data.iloc[-6:].mean()\n",
    "future['CPI'] = recent['CPI']\n",
    "future['Campaigns'] = recent['Campaigns']\n",
    "future['Holidays'] = recent['Holidays']\n",
    "\n",
    "# Predict future demand\n",
    "forecast = model.predict(future)\n",
    "\n",
    "# Plot forecast\n",
    "fig = plot_plotly(model, forecast)\n",
    "fig.show()"
   ]
  },
  {
   "cell_type": "markdown",
   "metadata": {},
   "source": [
    "## View Forecast Components"
   ]
  },
  {
   "cell_type": "code",
   "execution_count": 15,
   "metadata": {},
   "outputs": [
    {
     "data": {
      "image/png": "[encoded data removed]",
      "text/plain": [
       "<Figure size 900x600 with 2 Axes>"
      ]
     },
     "execution_count": 15,
     "metadata": {},
     "output_type": "execute_result"
    },
    {
     "data": {
      "image/png": "[encoded data removed]",
      "text/plain": [
       "<Figure size 900x600 with 2 Axes>"
      ]
     },
     "metadata": {},
     "output_type": "display_data"
    }
   ],
   "source": [
    "# Plot trend and seasonal components\n",
    "model.plot_components(forecast)"
   ]
  },
  {
   "cell_type": "code",
   "execution_count": 16,
   "metadata": {},
   "outputs": [
    {
     "name": "stderr",
     "output_type": "stream",
     "text": [
      "17:46:53 - cmdstanpy - INFO - Chain [1] start processing\n",
      "17:46:53 - cmdstanpy - INFO - Chain [1] done processing\n"
     ]
    },
    {
     "data": {
      "text/plain": [
       "<prophet.forecaster.Prophet at 0x1cc228eb5c0>"
      ]
     },
     "execution_count": 16,
     "metadata": {},
     "output_type": "execute_result"
    }
   ],
   "source": [
    "# Build model\n",
    "model = Prophet()\n",
    "model.add_regressor('CPI')\n",
    "model.add_regressor('Campaigns')\n",
    "model.add_regressor('Holidays')\n",
    "model.fit(monthly_data)"
   ]
  },
  {
   "cell_type": "code",
   "execution_count": 17,
   "metadata": {},
   "outputs": [
    {
     "data": {
      "application/vnd.jupyter.widget-view+json": {
       "model_id": "c8514b2f45c04ef8a2fdb3608d966803",
       "version_major": 2,
       "version_minor": 0
      },
      "text/plain": [
       "  0%|          | 0/8 [00:00<?, ?it/s]"
      ]
     },
     "metadata": {},
     "output_type": "display_data"
    },
    {
     "name": "stderr",
     "output_type": "stream",
     "text": [
      "17:46:53 - cmdstanpy - INFO - Chain [1] start processing\n",
      "17:46:53 - cmdstanpy - INFO - Chain [1] done processing\n",
      "17:46:54 - cmdstanpy - INFO - Chain [1] start processing\n",
      "17:46:54 - cmdstanpy - INFO - Chain [1] done processing\n",
      "17:46:54 - cmdstanpy - INFO - Chain [1] start processing\n",
      "17:46:54 - cmdstanpy - INFO - Chain [1] done processing\n",
      "17:46:54 - cmdstanpy - INFO - Chain [1] start processing\n",
      "17:46:54 - cmdstanpy - INFO - Chain [1] done processing\n",
      "17:46:54 - cmdstanpy - INFO - Chain [1] start processing\n",
      "17:46:54 - cmdstanpy - INFO - Chain [1] done processing\n",
      "17:46:54 - cmdstanpy - INFO - Chain [1] start processing\n",
      "17:46:54 - cmdstanpy - INFO - Chain [1] done processing\n",
      "17:46:54 - cmdstanpy - INFO - Chain [1] start processing\n",
      "17:46:54 - cmdstanpy - INFO - Chain [1] done processing\n",
      "17:46:54 - cmdstanpy - INFO - Chain [1] start processing\n",
      "17:46:54 - cmdstanpy - INFO - Chain [1] done processing\n"
     ]
    },
    {
     "data": {
      "text/html": [
       "<div>\n",
       "<style scoped>\n",
       "    .dataframe tbody tr th:only-of-type {\n",
       "        vertical-align: middle;\n",
       "    }\n",
       "\n",
       "    .dataframe tbody tr th {\n",
       "        vertical-align: top;\n",
       "    }\n",
       "\n",
       "    .dataframe thead th {\n",
       "        text-align: right;\n",
       "    }\n",
       "</style>\n",
       "<table border=\"1\" class=\"dataframe\">\n",
       "  <thead>\n",
       "    <tr style=\"text-align: right;\">\n",
       "      <th></th>\n",
       "      <th>horizon</th>\n",
       "      <th>mape</th>\n",
       "      <th>rmse</th>\n",
       "      <th>mae</th>\n",
       "    </tr>\n",
       "  </thead>\n",
       "  <tbody>\n",
       "    <tr>\n",
       "      <th>0</th>\n",
       "      <td>26 days</td>\n",
       "      <td>0.063560</td>\n",
       "      <td>85.196579</td>\n",
       "      <td>84.973895</td>\n",
       "    </tr>\n",
       "    <tr>\n",
       "      <th>1</th>\n",
       "      <td>27 days</td>\n",
       "      <td>0.136806</td>\n",
       "      <td>208.329268</td>\n",
       "      <td>195.674755</td>\n",
       "    </tr>\n",
       "    <tr>\n",
       "      <th>2</th>\n",
       "      <td>28 days</td>\n",
       "      <td>0.201564</td>\n",
       "      <td>249.301814</td>\n",
       "      <td>240.053503</td>\n",
       "    </tr>\n",
       "    <tr>\n",
       "      <th>3</th>\n",
       "      <td>29 days</td>\n",
       "      <td>0.065708</td>\n",
       "      <td>110.039024</td>\n",
       "      <td>89.943836</td>\n",
       "    </tr>\n",
       "    <tr>\n",
       "      <th>4</th>\n",
       "      <td>56 days</td>\n",
       "      <td>0.092534</td>\n",
       "      <td>149.192977</td>\n",
       "      <td>128.597499</td>\n",
       "    </tr>\n",
       "    <tr>\n",
       "      <th>5</th>\n",
       "      <td>57 days</td>\n",
       "      <td>0.155860</td>\n",
       "      <td>236.099605</td>\n",
       "      <td>222.771941</td>\n",
       "    </tr>\n",
       "    <tr>\n",
       "      <th>6</th>\n",
       "      <td>58 days</td>\n",
       "      <td>0.182282</td>\n",
       "      <td>229.593306</td>\n",
       "      <td>222.834556</td>\n",
       "    </tr>\n",
       "    <tr>\n",
       "      <th>7</th>\n",
       "      <td>59 days</td>\n",
       "      <td>0.036491</td>\n",
       "      <td>66.681791</td>\n",
       "      <td>50.354159</td>\n",
       "    </tr>\n",
       "    <tr>\n",
       "      <th>8</th>\n",
       "      <td>60 days</td>\n",
       "      <td>0.054415</td>\n",
       "      <td>84.124210</td>\n",
       "      <td>74.439906</td>\n",
       "    </tr>\n",
       "    <tr>\n",
       "      <th>9</th>\n",
       "      <td>86 days</td>\n",
       "      <td>0.068381</td>\n",
       "      <td>89.662324</td>\n",
       "      <td>89.173228</td>\n",
       "    </tr>\n",
       "    <tr>\n",
       "      <th>10</th>\n",
       "      <td>87 days</td>\n",
       "      <td>0.154752</td>\n",
       "      <td>245.599040</td>\n",
       "      <td>222.455073</td>\n",
       "    </tr>\n",
       "    <tr>\n",
       "      <th>11</th>\n",
       "      <td>88 days</td>\n",
       "      <td>0.165949</td>\n",
       "      <td>219.217719</td>\n",
       "      <td>205.823953</td>\n",
       "    </tr>\n",
       "    <tr>\n",
       "      <th>12</th>\n",
       "      <td>89 days</td>\n",
       "      <td>0.087009</td>\n",
       "      <td>132.063700</td>\n",
       "      <td>117.936615</td>\n",
       "    </tr>\n",
       "    <tr>\n",
       "      <th>13</th>\n",
       "      <td>90 days</td>\n",
       "      <td>0.078481</td>\n",
       "      <td>143.611907</td>\n",
       "      <td>128.154369</td>\n",
       "    </tr>\n",
       "  </tbody>\n",
       "</table>\n",
       "</div>"
      ],
      "text/plain": [
       "   horizon      mape        rmse         mae\n",
       "0  26 days  0.063560   85.196579   84.973895\n",
       "1  27 days  0.136806  208.329268  195.674755\n",
       "2  28 days  0.201564  249.301814  240.053503\n",
       "3  29 days  0.065708  110.039024   89.943836\n",
       "4  56 days  0.092534  149.192977  128.597499\n",
       "5  57 days  0.155860  236.099605  222.771941\n",
       "6  58 days  0.182282  229.593306  222.834556\n",
       "7  59 days  0.036491   66.681791   50.354159\n",
       "8  60 days  0.054415   84.124210   74.439906\n",
       "9  86 days  0.068381   89.662324   89.173228\n",
       "10 87 days  0.154752  245.599040  222.455073\n",
       "11 88 days  0.165949  219.217719  205.823953\n",
       "12 89 days  0.087009  132.063700  117.936615\n",
       "13 90 days  0.078481  143.611907  128.154369"
      ]
     },
     "execution_count": 17,
     "metadata": {},
     "output_type": "execute_result"
    }
   ],
   "source": [
    "# Perform cross-validation\n",
    "df_cv = cross_validation(model, initial='400 days', period='30 days', horizon='90 days')\n",
    "df_p = performance_metrics(df_cv)\n",
    "df_p[['horizon', 'mape', 'rmse', 'mae']]"
   ]
  },
  {
   "cell_type": "code",
   "execution_count": 18,
   "metadata": {},
   "outputs": [
    {
     "data": {
      "image/png": "[encoded data removed]",
      "text/plain": [
       "<Figure size 1000x600 with 1 Axes>"
      ]
     },
     "execution_count": 18,
     "metadata": {},
     "output_type": "execute_result"
    },
    {
     "data": {
      "image/png": "[encoded data removed]",
      "text/plain": [
       "<Figure size 1000x600 with 1 Axes>"
      ]
     },
     "metadata": {},
     "output_type": "display_data"
    }
   ],
   "source": [
    "from prophet.plot import plot_cross_validation_metric\n",
    "\n",
    "plot_cross_validation_metric(df_cv, metric='mape')"
   ]
  },
  {
   "cell_type": "markdown",
   "metadata": {},
   "source": [
    "# Actual vs Prophet Forecasted Units Sold"
   ]
  },
  {
   "cell_type": "code",
   "execution_count": 30,
   "metadata": {},
   "outputs": [],
   "source": [
    "# Prepare monthly aggregated data\n",
    "df['Month'] = df['Date'].dt.to_period('M').dt.to_timestamp()\n",
    "monthly_data = df.groupby('Month').agg({\n",
    "    'Units_Sold': 'sum',\n",
    "    'CPI': 'mean',\n",
    "    'Campaign_Flag': 'sum',\n",
    "    'Holiday_Flag': 'sum'\n",
    "}).reset_index()\n",
    "\n",
    "monthly_data.columns = ['ds', 'y', 'CPI', 'Campaigns', 'Holidays']"
   ]
  },
  {
   "cell_type": "markdown",
   "metadata": {},
   "source": [
    "## Fit Prophet Model with External Regressors"
   ]
  },
  {
   "cell_type": "code",
   "execution_count": 34,
   "metadata": {},
   "outputs": [
    {
     "name": "stderr",
     "output_type": "stream",
     "text": [
      "17:48:50 - cmdstanpy - INFO - Chain [1] start processing\n",
      "17:48:50 - cmdstanpy - INFO - Chain [1] done processing\n"
     ]
    },
    {
     "data": {
      "text/plain": [
       "<prophet.forecaster.Prophet at 0x1cc22bf9370>"
      ]
     },
     "execution_count": 34,
     "metadata": {},
     "output_type": "execute_result"
    }
   ],
   "source": [
    "# Fit Prophet model\n",
    "model = Prophet()\n",
    "model.add_regressor('CPI')\n",
    "model.add_regressor('Campaigns')\n",
    "model.add_regressor('Holidays')\n",
    "model.fit(monthly_data)"
   ]
  },
  {
   "cell_type": "markdown",
   "metadata": {},
   "source": [
    "## Making Forecast"
   ]
  },
  {
   "cell_type": "code",
   "execution_count": 37,
   "metadata": {},
   "outputs": [],
   "source": [
    "# Copy future DataFrame\n",
    "future = model.make_future_dataframe(periods=6, freq='M')\n",
    "\n",
    "# Merge with historical regressor values\n",
    "future = future.merge(\n",
    "    monthly_data[['ds', 'CPI', 'Campaigns', 'Holidays']],\n",
    "    on='ds',\n",
    "    how='left'\n",
    ")\n",
    "\n",
    "# Fill NA in future dates with average of recent history\n",
    "future['CPI'].fillna(recent['CPI'], inplace=True)\n",
    "future['Campaigns'].fillna(recent['Campaigns'], inplace=True)\n",
    "future['Holidays'].fillna(recent['Holidays'], inplace=True)\n",
    "\n",
    "# Forecast\n",
    "forecast = model.predict(future)\n"
   ]
  },
  {
   "cell_type": "markdown",
   "metadata": {},
   "source": [
    "## Plot Actual vs Forecast"
   ]
  },
  {
   "cell_type": "code",
   "execution_count": 39,
   "metadata": {},
   "outputs": [
    {
     "data": {
      "image/png": "[encoded data removed]",
      "text/plain": [
       "<Figure size 1200x600 with 1 Axes>"
      ]
     },
     "metadata": {},
     "output_type": "display_data"
    }
   ],
   "source": [
    "# Merge actual and forecast\n",
    "merged = pd.merge(monthly_data[['ds', 'y']], forecast[['ds', 'yhat']], on='ds', how='left')\n",
    "\n",
    "# Plot\n",
    "plt.figure(figsize=(12, 6))\n",
    "plt.plot(merged['ds'], merged['y'], label='Actual', marker='o')\n",
    "plt.plot(merged['ds'], merged['yhat'], label='Forecast (Prophet)', linestyle='--', marker='x')\n",
    "plt.title('Actual vs Prophet Forecasted Units Sold Over Time')\n",
    "plt.xlabel('Date')\n",
    "plt.ylabel('Units Sold')\n",
    "plt.legend()\n",
    "plt.xticks(rotation=45)\n",
    "plt.tight_layout()\n",
    "plt.show()"
   ]
  },
  {
   "cell_type": "code",
   "execution_count": null,
   "metadata": {},
   "outputs": [
    {
     "data": {
      "text/html": [
       "<div>\n",
       "<style scoped>\n",
       "    .dataframe tbody tr th:only-of-type {\n",
       "        vertical-align: middle;\n",
       "    }\n",
       "\n",
       "    .dataframe tbody tr th {\n",
       "        vertical-align: top;\n",
       "    }\n",
       "\n",
       "    .dataframe thead th {\n",
       "        text-align: right;\n",
       "    }\n",
       "</style>\n",
       "<table border=\"1\" class=\"dataframe\">\n",
       "  <thead>\n",
       "    <tr style=\"text-align: right;\">\n",
       "      <th></th>\n",
       "      <th>ds</th>\n",
       "      <th>y</th>\n",
       "      <th>CPI</th>\n",
       "      <th>Campaigns</th>\n",
       "      <th>Holidays</th>\n",
       "    </tr>\n",
       "  </thead>\n",
       "  <tbody>\n",
       "    <tr>\n",
       "      <th>0</th>\n",
       "      <td>2023-01-01</td>\n",
       "      <td>1089</td>\n",
       "      <td>102.938772</td>\n",
       "      <td>16</td>\n",
       "      <td>9</td>\n",
       "    </tr>\n",
       "    <tr>\n",
       "      <th>1</th>\n",
       "      <td>2023-02-01</td>\n",
       "      <td>1314</td>\n",
       "      <td>102.527797</td>\n",
       "      <td>16</td>\n",
       "      <td>9</td>\n",
       "    </tr>\n",
       "    <tr>\n",
       "      <th>2</th>\n",
       "      <td>2023-03-01</td>\n",
       "      <td>1086</td>\n",
       "      <td>103.027679</td>\n",
       "      <td>16</td>\n",
       "      <td>8</td>\n",
       "    </tr>\n",
       "    <tr>\n",
       "      <th>3</th>\n",
       "      <td>2023-04-01</td>\n",
       "      <td>1415</td>\n",
       "      <td>102.533824</td>\n",
       "      <td>16</td>\n",
       "      <td>10</td>\n",
       "    </tr>\n",
       "    <tr>\n",
       "      <th>4</th>\n",
       "      <td>2023-05-01</td>\n",
       "      <td>1173</td>\n",
       "      <td>102.696949</td>\n",
       "      <td>20</td>\n",
       "      <td>7</td>\n",
       "    </tr>\n",
       "  </tbody>\n",
       "</table>\n",
       "</div>"
      ],
      "text/plain": [
       "          ds     y         CPI  Campaigns  Holidays\n",
       "0 2023-01-01  1089  102.938772         16         9\n",
       "1 2023-02-01  1314  102.527797         16         9\n",
       "2 2023-03-01  1086  103.027679         16         8\n",
       "3 2023-04-01  1415  102.533824         16        10\n",
       "4 2023-05-01  1173  102.696949         20         7"
      ]
     },
     "execution_count": 41,
     "metadata": {},
     "output_type": "execute_result"
    }
   ],
   "source": [
    "# Aggregate monthly data\n",
    "monthly = df.groupby('Month').agg({\n",
    "    'Units_Sold': 'sum',\n",
    "    'CPI': 'mean',\n",
    "    'Campaign_Flag': 'sum',\n",
    "    'Holiday_Flag': 'sum'\n",
    "}).reset_index()\n",
    "\n",
    "monthly.columns = ['ds', 'y', 'CPI', 'Campaigns', 'Holidays']\n",
    "monthly.head()"
   ]
  },
  {
   "cell_type": "code",
   "execution_count": 42,
   "metadata": {},
   "outputs": [
    {
     "name": "stderr",
     "output_type": "stream",
     "text": [
      "18:17:06 - cmdstanpy - INFO - Chain [1] start processing\n",
      "18:17:06 - cmdstanpy - INFO - Chain [1] done processing\n"
     ]
    },
    {
     "data": {
      "text/plain": [
       "<prophet.forecaster.Prophet at 0x1cc233bb8f0>"
      ]
     },
     "execution_count": 42,
     "metadata": {},
     "output_type": "execute_result"
    }
   ],
   "source": [
    "from prophet import Prophet\n",
    "\n",
    "model = Prophet()\n",
    "model.add_regressor('CPI')\n",
    "model.add_regressor('Campaigns')\n",
    "model.add_regressor('Holidays')\n",
    "model.fit(monthly)\n"
   ]
  },
  {
   "cell_type": "code",
   "execution_count": 43,
   "metadata": {},
   "outputs": [
    {
     "name": "stdout",
     "output_type": "stream",
     "text": [
      "✅ model.pkl saved successfully.\n"
     ]
    }
   ],
   "source": [
    "import joblib\n",
    "\n",
    "joblib.dump(model, \"model.pkl\")\n",
    "print(\"✅ model.pkl saved successfully.\")\n"
   ]
  }
 ],
 "metadata": {
  "kernelspec": {
   "display_name": "Python 3",
   "language": "python",
   "name": "python3"
  },
  "language_info": {
   "codemirror_mode": {
    "name": "ipython",
    "version": 3
   },
   "file_extension": ".py",
   "mimetype": "text/x-python",
   "name": "python",
   "nbconvert_exporter": "python",
   "pygments_lexer": "ipython3",
   "version": "3.12.3"
  }
 },
 "nbformat": 4,
 "nbformat_minor": 2
}
